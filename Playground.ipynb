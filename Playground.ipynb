{
 "metadata": {
  "language_info": {
   "codemirror_mode": {
    "name": "ipython",
    "version": 3
   },
   "file_extension": ".py",
   "mimetype": "text/x-python",
   "name": "python",
   "nbconvert_exporter": "python",
   "pygments_lexer": "ipython3",
   "version": "3.7.5"
  },
  "orig_nbformat": 4,
  "kernelspec": {
   "name": "python3",
   "display_name": "Python 3.7.5 64-bit ('pytorch': conda)"
  },
  "interpreter": {
   "hash": "5489b0d0662e02e01384b3120f09c7d378699daf3b4b6777f19e52b31f2c148a"
  }
 },
 "nbformat": 4,
 "nbformat_minor": 2,
 "cells": [
  {
   "cell_type": "code",
   "execution_count": 1,
   "metadata": {},
   "outputs": [],
   "source": [
    "import collect_results as cr\n",
    "import loss_rank_correlation as lrc\n",
    "\n",
    "config_file = 'config.json'"
   ]
  },
  {
   "cell_type": "code",
   "execution_count": 2,
   "metadata": {},
   "outputs": [
    {
     "output_type": "stream",
     "name": "stdout",
     "text": [
      "Using PyTorch version: 1.9.0+cu111 CUDA: True\nfmnist_laug_no_0_daug_no_0_dp_nc_0_nm_0_epochs_35_run_1 exists\nfmnist_laug_smooth_0.01_daug_no_0_dp_nc_0_nm_0_epochs_35_run_1 exists\nfmnist_laug_smooth_0.05_daug_no_0_dp_nc_0_nm_0_epochs_35_run_1 exists\nfmnist_laug_no_0_daug_no_0_dp_nc_0_nm_0_epochs_3_run_1 exists\nfmnist_laug_no_0_daug_no_0_dp_nc_0_nm_0_epochs_4_run_1 exists\nfmnist_laug_no_0_daug_no_0_dp_nc_0_nm_0_epochs_7_run_1 exists\nfmnist_laug_no_0_daug_no_0_dp_nc_0_nm_0_epochs_35_run_2 exists\nfmnist_laug_smooth_0.01_daug_no_0_dp_nc_0_nm_0_epochs_35_run_2 exists\nfmnist_laug_smooth_0.05_daug_no_0_dp_nc_0_nm_0_epochs_35_run_2 exists\nfmnist_laug_no_0_daug_no_0_dp_nc_0_nm_0_epochs_3_run_2 exists\nfmnist_laug_no_0_daug_no_0_dp_nc_0_nm_0_epochs_4_run_2 exists\nfmnist_laug_no_0_daug_no_0_dp_nc_0_nm_0_epochs_7_run_2 exists\n"
     ]
    }
   ],
   "source": [
    "%run train_models.py {config_file} # to train the models as its specified in the config file"
   ]
  },
  {
   "cell_type": "code",
   "execution_count": 3,
   "metadata": {},
   "outputs": [
    {
     "output_type": "stream",
     "name": "stdout",
     "text": [
      "Using PyTorch version: 1.9.0+cu111 CUDA: True\n",
      "There are 15 models in ./models\\fmnist.\n",
      "Attacking fmnist_laug_distillation_1_daug_no_0_dp_nc_0_nm_0_epochs_35_run_1 - |A|: 100 - S: 0...\n",
      "Train Top1: 100.000%, Train Top5: 100.000%, Test Top1: 93.863%, Test Top5: 99.863%\n",
      "Avg Yeom MI Advantage: 8.70\n",
      "Best Yeom MI Advantage: 11.10\n",
      "Aware MI Advantage: 10.82 - Reduction: none\n",
      "--------------------------------------------\n",
      "Attacking fmnist_laug_no_0_daug_crop_1_dp_nc_0_nm_0_epochs_35_run_1 - |A|: 100 - S: 0...\n",
      "Train Top1: 98.667%, Train Top5: 100.000%, Test Top1: 94.490%, Test Top5: 99.941%\n",
      "Avg Yeom MI Advantage: 4.26\n",
      "Best Yeom MI Advantage: 4.46\n",
      "Aware MI Advantage: 5.76 - Reduction: std\n",
      "--------------------------------------------\n",
      "Attacking fmnist_laug_no_0_daug_no_0_dp_nc_0_nm_0_epochs_35_run_1 - |A|: 100 - S: 0...\n",
      "Train Top1: 100.000%, Train Top5: 100.000%, Test Top1: 93.863%, Test Top5: 99.843%\n",
      "Avg Yeom MI Advantage: 9.20\n",
      "Best Yeom MI Advantage: 10.98\n",
      "--------------------------------------------\n",
      "Attacking fmnist_laug_no_0_daug_no_0_dp_nc_0_nm_0_epochs_35_run_2 - |A|: 100 - S: 0...\n",
      "Train Top1: 100.000%, Train Top5: 100.000%, Test Top1: 94.059%, Test Top5: 99.902%\n",
      "Avg Yeom MI Advantage: 8.98\n",
      "Best Yeom MI Advantage: 10.92\n",
      "--------------------------------------------\n",
      "Attacking fmnist_laug_no_0_daug_no_0_dp_nc_0_nm_0_epochs_3_run_1 - |A|: 100 - S: 0...\n",
      "Train Top1: 92.294%, Train Top5: 99.902%, Test Top1: 90.824%, Test Top5: 99.882%\n",
      "Avg Yeom MI Advantage: 0.44\n",
      "Best Yeom MI Advantage: 1.10\n",
      "--------------------------------------------\n",
      "Attacking fmnist_laug_no_0_daug_no_0_dp_nc_0_nm_0_epochs_3_run_2 - |A|: 100 - S: 0...\n",
      "Train Top1: 92.353%, Train Top5: 99.902%, Test Top1: 90.863%, Test Top5: 99.902%\n",
      "Avg Yeom MI Advantage: 0.38\n",
      "Best Yeom MI Advantage: 1.32\n",
      "--------------------------------------------\n",
      "Attacking fmnist_laug_no_0_daug_no_0_dp_nc_0_nm_0_epochs_4_run_1 - |A|: 100 - S: 0...\n",
      "Train Top1: 93.804%, Train Top5: 99.941%, Test Top1: 91.882%, Test Top5: 99.902%\n",
      "Avg Yeom MI Advantage: 1.30\n",
      "Best Yeom MI Advantage: 1.82\n",
      "--------------------------------------------\n",
      "Attacking fmnist_laug_no_0_daug_no_0_dp_nc_0_nm_0_epochs_4_run_2 - |A|: 100 - S: 0...\n",
      "Train Top1: 93.902%, Train Top5: 99.961%, Test Top1: 91.804%, Test Top5: 99.941%\n",
      "Avg Yeom MI Advantage: 0.94\n",
      "Best Yeom MI Advantage: 1.64\n",
      "--------------------------------------------\n",
      "Attacking fmnist_laug_no_0_daug_no_0_dp_nc_0_nm_0_epochs_7_run_1 - |A|: 100 - S: 0...\n",
      "Train Top1: 95.451%, Train Top5: 100.000%, Test Top1: 93.255%, Test Top5: 99.961%\n",
      "Avg Yeom MI Advantage: 1.44\n",
      "Best Yeom MI Advantage: 2.52\n",
      "--------------------------------------------\n",
      "Attacking fmnist_laug_no_0_daug_no_0_dp_nc_0_nm_0_epochs_7_run_2 - |A|: 100 - S: 0...\n",
      "Train Top1: 95.549%, Train Top5: 99.980%, Test Top1: 93.039%, Test Top5: 99.922%\n",
      "Avg Yeom MI Advantage: 1.94\n",
      "Best Yeom MI Advantage: 2.76\n",
      "--------------------------------------------\n",
      "Attacking fmnist_laug_no_0_daug_no_0_dp_nc_1_nm_0.5_epochs_35_run_1 - |A|: 100 - S: 0...\n",
      "Train Top1: 89.667%, Train Top5: 99.725%, Test Top1: 87.882%, Test Top5: 99.725%\n",
      "Avg Yeom MI Advantage: 1.46\n",
      "Best Yeom MI Advantage: 1.26\n",
      "--------------------------------------------\n",
      "Attacking fmnist_laug_smooth_0.01_daug_no_0_dp_nc_0_nm_0_epochs_35_run_1 - |A|: 100 - S: 0...\n",
      "Train Top1: 100.000%, Train Top5: 100.000%, Test Top1: 93.608%, Test Top5: 99.353%\n",
      "Avg Yeom MI Advantage: 9.28\n",
      "Best Yeom MI Advantage: 10.22\n",
      "Aware MI Advantage: 11.66 - Reduction: none\n",
      "--------------------------------------------\n",
      "Attacking fmnist_laug_smooth_0.01_daug_no_0_dp_nc_0_nm_0_epochs_35_run_2 - |A|: 100 - S: 0...\n",
      "Train Top1: 100.000%, Train Top5: 100.000%, Test Top1: 93.725%, Test Top5: 99.549%\n",
      "Avg Yeom MI Advantage: 7.70\n",
      "Best Yeom MI Advantage: 15.36\n",
      "Aware MI Advantage: 15.00 - Reduction: none\n",
      "--------------------------------------------\n",
      "Attacking fmnist_laug_smooth_0.05_daug_no_0_dp_nc_0_nm_0_epochs_35_run_1 - |A|: 100 - S: 0...\n",
      "Train Top1: 100.000%, Train Top5: 100.000%, Test Top1: 93.941%, Test Top5: 99.412%\n",
      "Avg Yeom MI Advantage: 9.58\n",
      "Best Yeom MI Advantage: 18.76\n",
      "Aware MI Advantage: 18.58 - Reduction: none\n",
      "--------------------------------------------\n",
      "Attacking fmnist_laug_smooth_0.05_daug_no_0_dp_nc_0_nm_0_epochs_35_run_2 - |A|: 100 - S: 0...\n",
      "Train Top1: 100.000%, Train Top5: 100.000%, Test Top1: 93.902%, Test Top5: 99.510%\n",
      "Avg Yeom MI Advantage: 8.90\n",
      "Best Yeom MI Advantage: 17.42\n",
      "Aware MI Advantage: 15.24 - Reduction: none\n",
      "--------------------------------------------\n",
      "Attacking fmnist_laug_distillation_1_daug_no_0_dp_nc_0_nm_0_epochs_35_run_1 - |A|: 100 - S: 1...\n",
      "Train Top1: 100.000%, Train Top5: 100.000%, Test Top1: 93.784%, Test Top5: 99.804%\n",
      "Avg Yeom MI Advantage: 9.44\n",
      "Best Yeom MI Advantage: 10.04\n",
      "Aware MI Advantage: 11.28 - Reduction: none\n",
      "--------------------------------------------\n",
      "Attacking fmnist_laug_no_0_daug_crop_1_dp_nc_0_nm_0_epochs_35_run_1 - |A|: 100 - S: 1...\n",
      "Train Top1: 98.392%, Train Top5: 100.000%, Test Top1: 94.137%, Test Top5: 99.863%\n",
      "Avg Yeom MI Advantage: 4.82\n",
      "Best Yeom MI Advantage: 2.08\n",
      "Aware MI Advantage: 4.24 - Reduction: std\n",
      "--------------------------------------------\n",
      "Attacking fmnist_laug_no_0_daug_no_0_dp_nc_0_nm_0_epochs_35_run_1 - |A|: 100 - S: 1...\n",
      "Train Top1: 100.000%, Train Top5: 100.000%, Test Top1: 93.490%, Test Top5: 99.804%\n",
      "Avg Yeom MI Advantage: 9.96\n",
      "Best Yeom MI Advantage: 11.32\n",
      "--------------------------------------------\n",
      "Attacking fmnist_laug_no_0_daug_no_0_dp_nc_0_nm_0_epochs_35_run_2 - |A|: 100 - S: 1...\n",
      "Train Top1: 100.000%, Train Top5: 100.000%, Test Top1: 93.725%, Test Top5: 99.863%\n",
      "Avg Yeom MI Advantage: 8.96\n",
      "Best Yeom MI Advantage: 8.78\n",
      "--------------------------------------------\n",
      "Attacking fmnist_laug_no_0_daug_no_0_dp_nc_0_nm_0_epochs_3_run_1 - |A|: 100 - S: 1...\n",
      "Train Top1: 92.353%, Train Top5: 99.961%, Test Top1: 90.725%, Test Top5: 99.824%\n",
      "Avg Yeom MI Advantage: 0.90\n",
      "Best Yeom MI Advantage: 0.34\n",
      "--------------------------------------------\n",
      "Attacking fmnist_laug_no_0_daug_no_0_dp_nc_0_nm_0_epochs_3_run_2 - |A|: 100 - S: 1...\n",
      "Train Top1: 92.118%, Train Top5: 99.961%, Test Top1: 90.529%, Test Top5: 99.863%\n",
      "Avg Yeom MI Advantage: 0.62\n",
      "Best Yeom MI Advantage: 0.04\n",
      "--------------------------------------------\n",
      "Attacking fmnist_laug_no_0_daug_no_0_dp_nc_0_nm_0_epochs_4_run_1 - |A|: 100 - S: 1...\n",
      "Train Top1: 93.745%, Train Top5: 99.961%, Test Top1: 91.569%, Test Top5: 99.824%\n",
      "Avg Yeom MI Advantage: 1.22\n",
      "Best Yeom MI Advantage: 2.02\n",
      "--------------------------------------------\n",
      "Attacking fmnist_laug_no_0_daug_no_0_dp_nc_0_nm_0_epochs_4_run_2 - |A|: 100 - S: 1...\n",
      "Train Top1: 93.824%, Train Top5: 99.961%, Test Top1: 91.882%, Test Top5: 99.922%\n",
      "Avg Yeom MI Advantage: 1.68\n",
      "Best Yeom MI Advantage: 1.02\n",
      "--------------------------------------------\n",
      "Attacking fmnist_laug_no_0_daug_no_0_dp_nc_0_nm_0_epochs_7_run_1 - |A|: 100 - S: 1...\n",
      "Train Top1: 95.451%, Train Top5: 99.980%, Test Top1: 92.922%, Test Top5: 99.922%\n",
      "Avg Yeom MI Advantage: 2.16\n",
      "Best Yeom MI Advantage: -0.02\n",
      "--------------------------------------------\n",
      "Attacking fmnist_laug_no_0_daug_no_0_dp_nc_0_nm_0_epochs_7_run_2 - |A|: 100 - S: 1...\n",
      "Train Top1: 95.588%, Train Top5: 100.000%, Test Top1: 92.882%, Test Top5: 99.902%\n",
      "Avg Yeom MI Advantage: 1.82\n",
      "Best Yeom MI Advantage: -1.00\n",
      "--------------------------------------------\n",
      "Attacking fmnist_laug_no_0_daug_no_0_dp_nc_1_nm_0.5_epochs_35_run_1 - |A|: 100 - S: 1...\n",
      "Train Top1: 88.765%, Train Top5: 99.804%, Test Top1: 87.706%, Test Top5: 99.686%\n",
      "Avg Yeom MI Advantage: 1.24\n",
      "Best Yeom MI Advantage: 0.94\n",
      "--------------------------------------------\n",
      "Attacking fmnist_laug_smooth_0.01_daug_no_0_dp_nc_0_nm_0_epochs_35_run_1 - |A|: 100 - S: 1...\n",
      "Train Top1: 100.000%, Train Top5: 100.000%, Test Top1: 93.725%, Test Top5: 99.373%\n",
      "Avg Yeom MI Advantage: 9.18\n",
      "Best Yeom MI Advantage: 5.24\n",
      "Aware MI Advantage: 15.82 - Reduction: none\n",
      "--------------------------------------------\n",
      "Attacking fmnist_laug_smooth_0.01_daug_no_0_dp_nc_0_nm_0_epochs_35_run_2 - |A|: 100 - S: 1...\n",
      "Train Top1: 100.000%, Train Top5: 100.000%, Test Top1: 94.020%, Test Top5: 99.392%\n",
      "Avg Yeom MI Advantage: 7.24\n",
      "Best Yeom MI Advantage: 14.96\n",
      "Aware MI Advantage: 14.64 - Reduction: none\n",
      "--------------------------------------------\n",
      "Attacking fmnist_laug_smooth_0.05_daug_no_0_dp_nc_0_nm_0_epochs_35_run_1 - |A|: 100 - S: 1...\n",
      "Train Top1: 100.000%, Train Top5: 100.000%, Test Top1: 93.961%, Test Top5: 99.392%\n",
      "Avg Yeom MI Advantage: 9.16\n",
      "Best Yeom MI Advantage: 18.82\n",
      "Aware MI Advantage: 18.72 - Reduction: none\n",
      "--------------------------------------------\n",
      "Attacking fmnist_laug_smooth_0.05_daug_no_0_dp_nc_0_nm_0_epochs_35_run_2 - |A|: 100 - S: 1...\n",
      "Train Top1: 100.000%, Train Top5: 100.000%, Test Top1: 93.706%, Test Top5: 99.451%\n",
      "Avg Yeom MI Advantage: 8.28\n",
      "Best Yeom MI Advantage: 16.30\n",
      "Aware MI Advantage: 17.46 - Reduction: none\n",
      "--------------------------------------------\n",
      "Attacking fmnist_laug_distillation_1_daug_no_0_dp_nc_0_nm_0_epochs_35_run_1 - |A|: 100 - S: 2...\n",
      "Train Top1: 100.000%, Train Top5: 100.000%, Test Top1: 93.725%, Test Top5: 99.843%\n",
      "Avg Yeom MI Advantage: 7.56\n",
      "Best Yeom MI Advantage: 10.40\n",
      "Aware MI Advantage: 1.50 - Reduction: none\n",
      "--------------------------------------------\n",
      "Attacking fmnist_laug_no_0_daug_crop_1_dp_nc_0_nm_0_epochs_35_run_1 - |A|: 100 - S: 2...\n",
      "Train Top1: 98.275%, Train Top5: 100.000%, Test Top1: 94.216%, Test Top5: 99.902%\n",
      "Avg Yeom MI Advantage: 3.60\n",
      "Best Yeom MI Advantage: 1.28\n",
      "Aware MI Advantage: 5.72 - Reduction: mean\n",
      "--------------------------------------------\n",
      "Attacking fmnist_laug_no_0_daug_no_0_dp_nc_0_nm_0_epochs_35_run_1 - |A|: 100 - S: 2...\n",
      "Train Top1: 100.000%, Train Top5: 100.000%, Test Top1: 93.333%, Test Top5: 99.824%\n",
      "Avg Yeom MI Advantage: 8.80\n",
      "Best Yeom MI Advantage: 3.12\n",
      "--------------------------------------------\n",
      "Attacking fmnist_laug_no_0_daug_no_0_dp_nc_0_nm_0_epochs_35_run_2 - |A|: 100 - S: 2...\n",
      "Train Top1: 100.000%, Train Top5: 100.000%, Test Top1: 93.725%, Test Top5: 99.843%\n",
      "Avg Yeom MI Advantage: 7.26\n",
      "Best Yeom MI Advantage: 7.28\n",
      "--------------------------------------------\n",
      "Attacking fmnist_laug_no_0_daug_no_0_dp_nc_0_nm_0_epochs_3_run_1 - |A|: 100 - S: 2...\n",
      "Train Top1: 91.980%, Train Top5: 99.902%, Test Top1: 90.980%, Test Top5: 99.941%\n",
      "Avg Yeom MI Advantage: 0.54\n",
      "Best Yeom MI Advantage: 0.54\n",
      "--------------------------------------------\n",
      "Attacking fmnist_laug_no_0_daug_no_0_dp_nc_0_nm_0_epochs_3_run_2 - |A|: 100 - S: 2...\n",
      "Train Top1: 91.569%, Train Top5: 99.941%, Test Top1: 90.882%, Test Top5: 99.961%\n",
      "Avg Yeom MI Advantage: 0.10\n",
      "Best Yeom MI Advantage: 0.80\n",
      "--------------------------------------------\n",
      "Attacking fmnist_laug_no_0_daug_no_0_dp_nc_0_nm_0_epochs_4_run_1 - |A|: 100 - S: 2...\n",
      "Train Top1: 93.373%, Train Top5: 99.922%, Test Top1: 91.804%, Test Top5: 99.922%\n",
      "Avg Yeom MI Advantage: 0.80\n",
      "Best Yeom MI Advantage: 0.66\n",
      "--------------------------------------------\n",
      "Attacking fmnist_laug_no_0_daug_no_0_dp_nc_0_nm_0_epochs_4_run_2 - |A|: 100 - S: 2...\n",
      "Train Top1: 93.255%, Train Top5: 99.922%, Test Top1: 92.078%, Test Top5: 99.922%\n",
      "Avg Yeom MI Advantage: 1.20\n",
      "Best Yeom MI Advantage: 1.16\n",
      "--------------------------------------------\n",
      "Attacking fmnist_laug_no_0_daug_no_0_dp_nc_0_nm_0_epochs_7_run_1 - |A|: 100 - S: 2...\n",
      "Train Top1: 95.196%, Train Top5: 99.941%, Test Top1: 93.000%, Test Top5: 99.941%\n",
      "Avg Yeom MI Advantage: 1.46\n",
      "Best Yeom MI Advantage: 1.66\n",
      "--------------------------------------------\n",
      "Attacking fmnist_laug_no_0_daug_no_0_dp_nc_0_nm_0_epochs_7_run_2 - |A|: 100 - S: 2...\n",
      "Train Top1: 95.235%, Train Top5: 99.980%, Test Top1: 92.765%, Test Top5: 99.902%\n",
      "Avg Yeom MI Advantage: 2.00\n",
      "Best Yeom MI Advantage: 1.68\n",
      "--------------------------------------------\n",
      "Attacking fmnist_laug_no_0_daug_no_0_dp_nc_1_nm_0.5_epochs_35_run_1 - |A|: 100 - S: 2...\n",
      "Train Top1: 89.255%, Train Top5: 99.784%, Test Top1: 87.549%, Test Top5: 99.647%\n",
      "Avg Yeom MI Advantage: 1.38\n",
      "Best Yeom MI Advantage: 1.22\n",
      "--------------------------------------------\n",
      "Attacking fmnist_laug_smooth_0.01_daug_no_0_dp_nc_0_nm_0_epochs_35_run_1 - |A|: 100 - S: 2...\n",
      "Train Top1: 100.000%, Train Top5: 100.000%, Test Top1: 93.490%, Test Top5: 99.333%\n",
      "Avg Yeom MI Advantage: 4.62\n",
      "Best Yeom MI Advantage: 4.62\n",
      "Aware MI Advantage: 13.66 - Reduction: none\n",
      "--------------------------------------------\n",
      "Attacking fmnist_laug_smooth_0.01_daug_no_0_dp_nc_0_nm_0_epochs_35_run_2 - |A|: 100 - S: 2...\n",
      "Train Top1: 100.000%, Train Top5: 100.000%, Test Top1: 93.686%, Test Top5: 99.490%\n",
      "Avg Yeom MI Advantage: 6.64\n",
      "Best Yeom MI Advantage: 10.80\n",
      "Aware MI Advantage: 15.14 - Reduction: none\n",
      "--------------------------------------------\n",
      "Attacking fmnist_laug_smooth_0.05_daug_no_0_dp_nc_0_nm_0_epochs_35_run_1 - |A|: 100 - S: 2...\n",
      "Train Top1: 100.000%, Train Top5: 100.000%, Test Top1: 93.941%, Test Top5: 99.373%\n",
      "Avg Yeom MI Advantage: 5.20\n",
      "Best Yeom MI Advantage: 18.08\n",
      "Aware MI Advantage: 16.30 - Reduction: none\n",
      "--------------------------------------------\n",
      "Attacking fmnist_laug_smooth_0.05_daug_no_0_dp_nc_0_nm_0_epochs_35_run_2 - |A|: 100 - S: 2...\n",
      "Train Top1: 100.000%, Train Top5: 100.000%, Test Top1: 93.765%, Test Top5: 99.549%\n",
      "Avg Yeom MI Advantage: 5.82\n",
      "Best Yeom MI Advantage: 13.46\n",
      "Aware MI Advantage: 15.36 - Reduction: none\n",
      "--------------------------------------------\n"
     ]
    }
   ],
   "source": [
    "%run mi_attacks.py {config_file} # apply membership inference attacks to the trained models with parameters specified in config file"
   ]
  },
  {
   "cell_type": "code",
   "execution_count": 4,
   "metadata": {},
   "outputs": [],
   "source": [
    "# load the config file for demonstratio\n",
    "import json\n",
    "with open(config_file) as f:\n",
    "    cfg = json.load(f)\n",
    "\n",
    "models_path = cfg['models_path']\n",
    "ds_name = 'fmnist'"
   ]
  },
  {
   "cell_type": "code",
   "execution_count": 5,
   "metadata": {},
   "outputs": [
    {
     "output_type": "stream",
     "name": "stdout",
     "text": [
      "{'acc': 93.69934775159248, 'avg_mia': 8.86, 'pow_mia': 8.733333333333334}\n"
     ]
    }
   ],
   "source": [
    "# n_attacker_train: number of samples the attacker has from the training set and the testing set of the model\n",
    "# num_epochs: number of epochs the model is trained for\n",
    "baseline_stats = cr.get_non_aug_stats(models_path=models_path, ds_name=ds_name, n_attacker_train=100, num_epochs=35)\n",
    "print(baseline_stats) # accuracy, avg attack, pow attack"
   ]
  },
  {
   "cell_type": "code",
   "execution_count": 6,
   "metadata": {},
   "outputs": [
    {
     "output_type": "stream",
     "name": "stdout",
     "text": [
      "{'laug_type': 'smooth', 'daug_type': 'no', 'laug_param': 0.01, 'daug_param': 0, 'acc': 93.70915192248775, 'avg_mia': 7.443333333333335, 'pow_mia': 10.199999999999998, 'awa_mia': (14.319999999999999,)}\n"
     ]
    }
   ],
   "source": [
    "relative_accuracy_drop_limit = 0.1 # we are looking for models with up to 90% of the baseline accuracy\n",
    "laug_type, daug_type = 'smooth', 'no'\n",
    "\n",
    "# returns the results (accuracies and MIA accuracies) for the trained models that match the given augmentation types\n",
    "# models_path: where the models are saved, specified in the config\n",
    "# ds_name: the name of the dataset (fmnist, cifar10 or cifar100)\n",
    "# laug_type: label augmentation type ('distillation', 'smooth', 'disturblabel')\n",
    "# laug_param: the parameter for label augmentation\n",
    "# daug_type: data augmentation type ('crop', 'cutout', 'noise', 'cutout', 'mixup')\n",
    "# daug_param: the parameter for data augmentation\n",
    "# n_attacker_train: number of samples the attacker has from the training set and the testing set of the model\n",
    "# n_repeat: for augmentation aware membership inference attack, number of forward passes with randomly augmented input samples\n",
    "# num_epochs: number of epochs the model is trained for\n",
    "# sort_order: how the results are sorted\n",
    "# the results are sorted based on the membership inference accuracy (increasing order) if sort_order is 'mia' else it will be sorted based on the accuracy\n",
    "results = cr.get_mia_stats(models_path=models_path, ds_name=ds_name, laug_type=laug_type, daug_type=daug_type, n_attacker_train=100, n_repeat=25, num_epochs=35, collect_dp=False, sort_order='mia')\n",
    "\n",
    "# each result is for specific parameter setting\n",
    "# print the model with the highest accuracy within the accuracy drop limit with the lowest MIA accuracy\n",
    "for result in results:\n",
    "    if result['acc'] > baseline_stats['acc'] * (1 - relative_accuracy_drop_limit):\n",
    "        print(result)\n",
    "    break\n"
   ]
  },
  {
   "cell_type": "code",
   "execution_count": 7,
   "metadata": {},
   "outputs": [
    {
     "output_type": "stream",
     "name": "stdout",
     "text": [
      "{'laug_type': 'smooth', 'daug_type': 'no', 'laug_param': 0.05, 'daug_param': 0, 'acc': 93.86928284090328, 'avg_mia': 7.823333333333333, 'pow_mia': 17.139999999999997, 'awa_mia': (16.94333333333333,)}\n"
     ]
    }
   ],
   "source": [
    "# print the model with the highest accuracy\n",
    "results = cr.get_mia_stats(models_path=models_path, ds_name=ds_name, laug_type=laug_type, daug_type=daug_type, n_attacker_train=100, n_repeat=25, num_epochs=35, collect_dp=False, sort_order='accuracy')\n",
    "print(results[0])"
   ]
  },
  {
   "cell_type": "code",
   "execution_count": 8,
   "metadata": {},
   "outputs": [
    {
     "output_type": "stream",
     "name": "stdout",
     "text": [
      "[('epochs:3', {'acc': 90.80065534005757, 'avg_mia': 0.4966666666666673, 'pow_mia': 0.6900000000000001}), ('epochs:4', {'acc': 91.83660255382263, 'avg_mia': 1.1900000000000002, 'pow_mia': 1.3866666666666632}), ('epochs:7', {'acc': 92.97712602802352, 'avg_mia': 1.80333333333333, 'pow_mia': 1.2666666666666682})]\n"
     ]
    }
   ],
   "source": [
    "# get the results for early stopping models\n",
    "early_stopping_epochs = cfg['early_stopping_epochs']\n",
    "early_stopping_results = [(f'epochs:{ii}', cr.get_non_aug_stats(models_path=models_path, ds_name=ds_name, n_attacker_train=100, num_epochs=ii)) for ii in early_stopping_epochs]\n",
    "print(early_stopping_results)"
   ]
  },
  {
   "cell_type": "code",
   "execution_count": 9,
   "metadata": {},
   "outputs": [
    {
     "output_type": "stream",
     "name": "stdout",
     "text": [
      "0.42644087544304643\n"
     ]
    }
   ],
   "source": [
    "# apply the loss rank correlation metric between regular models with no augmentation and models with smoothing (alpha=0.05)\n",
    "fp = cr.get_models_dirs(models_path=models_path, ds_name=ds_name, laug_type='no', laug_param=0, daug_type='no', daug_param=0, num_epochs=35, dp_params=None)\n",
    "sp = cr.get_models_dirs(models_path=models_path, ds_name=ds_name, laug_type='smooth', laug_param=0.05, daug_type='no', daug_param=0, num_epochs=35, dp_params=None)\n",
    "\n",
    "# since the losses are saved in the attack files we will also specify the parameters of the attack to fetch those files (seed and n_attacker_train)\n",
    "lrc_score = lrc.get_pairwise_lrc(fp, sp, n_attacker_train=100, seed=0)\n",
    "print(lrc_score)"
   ]
  },
  {
   "cell_type": "code",
   "execution_count": 10,
   "metadata": {},
   "outputs": [
    {
     "output_type": "stream",
     "name": "stdout",
     "text": [
      "0.9722368259745489\n"
     ]
    }
   ],
   "source": [
    "# apply the loss rank correlation metric between early stopping models that are trained with 7 epoochs and 4 epochs\n",
    "fp = cr.get_models_dirs(models_path=models_path, ds_name=ds_name, laug_type='no', laug_param=0, daug_type='no', daug_param=0, num_epochs=7, dp_params=None)\n",
    "sp = cr.get_models_dirs(models_path=models_path, ds_name=ds_name, laug_type='no', laug_param=0, daug_type='no', daug_param=0, num_epochs=4, dp_params=None)\n",
    "lrc_score = lrc.get_pairwise_lrc(fp, sp, n_attacker_train=100, seed=0)\n",
    "print(lrc_score)"
   ]
  },
  {
   "cell_type": "code",
   "execution_count": 11,
   "metadata": {},
   "outputs": [
    {
     "output_type": "stream",
     "name": "stdout",
     "text": [
      "0.3119577278240878\n"
     ]
    }
   ],
   "source": [
    "# apply the loss rank correlation metric between early stopping models and models with smoothing (alpha=0.01)\n",
    "fp = cr.get_models_dirs(models_path=models_path, ds_name=ds_name, laug_type='no', laug_param=0, daug_type='no', daug_param=0, num_epochs=7, dp_params=None)\n",
    "sp = cr.get_models_dirs(models_path=models_path, ds_name=ds_name, laug_type='smooth', laug_param=0.01, daug_type='no', daug_param=0, num_epochs=35, dp_params=None)\n",
    "lrc_score = lrc.get_pairwise_lrc(fp, sp, n_attacker_train=100, seed=0)\n",
    "print(lrc_score)"
   ]
  }
 ]
}